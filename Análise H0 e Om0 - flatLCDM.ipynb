{
 "cells": [
  {
   "cell_type": "markdown",
   "id": "858e722a-3583-4bfb-bb30-6ccd7ab1e6a8",
   "metadata": {},
   "source": [
    "# Análise H0 e Om0 - flatLCDM"
   ]
  },
  {
   "cell_type": "code",
   "execution_count": null,
   "id": "8485d921-491a-401e-a0ac-e6acaf92af64",
   "metadata": {},
   "outputs": [],
   "source": [
    "import os\n",
    "import h5py \n",
    "import json\n",
    "import numpy as np\n",
    "import healpy as hp\n",
    "import pickle\n",
    "import matplotlib.pyplot as plt\n",
    "import plotly.graph_objs as go\n",
    "import plotly.express as px\n",
    "import plotly.io as pio\n",
    "from tqdm import tqdm\n",
    "from scipy.interpolate import interp1d\n",
    "from mpl_toolkits.mplot3d import Axes3D\n",
    "from matplotlib.ticker import FuncFormatter\n",
    "from CHIMERA.DataGW import DataLVK\n",
    "from CHIMERA.Likelihood import LikeLVK\n",
    "from CHIMERA.astro.mass import pdf_FLAT, dummy_mass\n",
    "from CHIMERA.astro.rate import phi_PL, dummy_rate\n",
    "from CHIMERA.cosmo import fLCDM\n",
    "from CHIMERA.utils import misc, plotting\n",
    "from astropy.cosmology import FlatLambdaCDM\n",
    "from scipy.optimize import root\n",
    "%config InlineBackend.figure_format = \"svg\""
   ]
  },
  {
   "cell_type": "code",
   "execution_count": null,
   "id": "09f195ac-6125-4ba5-b8ff-1a9c7d285986",
   "metadata": {},
   "outputs": [],
   "source": [
    "dir_LVK       = os.getcwd()\n",
    "dir_GLADE     = \"../../data/GLADE/glade+_GW170817_cutout.hdf5\"\n",
    "dir_GLADE_int = \"../../data/GLADE/p_bkg_gauss_smooth_zerr0.001_zres5000_smooth30.pkl\"\n",
    "\n",
    "data_GW_n = \"GW170817\"                          \n",
    "data_GW = DataLVK(dir_LVK).load(data_GW_n)      \n",
    "data_GW[\"dL\"] /= 1000.     \n",
    "\n",
    "ra4993    = 3.44613079                         \n",
    "dec4993   = -0.40812585                        \n",
    "z4993     = 0.0091909380476333                 \n",
    "errz4993  = 0.0002665372033813657              "
   ]
  },
  {
   "cell_type": "code",
   "execution_count": null,
   "id": "49073555-e58f-4eef-ae73-9e1e2bbaeaba",
   "metadata": {},
   "outputs": [],
   "source": [
    "recipe  = {\"data_GW_names\":     data_GW_n,        \n",
    "           \"data_GW\":           data_GW,          \n",
    "           \"data_GW_smooth\":    0.3,              \n",
    "           \"data_GAL_dir\":      dir_GLADE,        \n",
    "           \"data_GAL_int_dir\":  dir_GLADE_int,    \n",
    "           \"data_GAL_weights\":  \"L_K\",            \n",
    "           \"npix_event\":        20,               \n",
    "           \"sky_conf\":          0.90,             \n",
    "           \"nside_list\":        [512,256,128,64,32,16,8],    \n",
    "           \"z_int_sigma\":       5,               \n",
    "           \"z_int_res\":         300,              \n",
    "           \"z_det_range\":       [0.01, 0.5],      \n",
    "           \"z_int_H0_prior\":    [30.,220.],       \n",
    "           \"Lcut\":              0.02,             \n",
    "           \"band\":              \"K\",\n",
    "           \"completeness\":      None,\n",
    "}"
   ]
  },
  {
   "cell_type": "markdown",
   "id": "84022e49-49b9-46f9-a6a2-bae9e7c509d6",
   "metadata": {},
   "source": [
    "# REPRODUÇÃO DA ANÁLISE (TUTORIAL) DE H_0"
   ]
  },
  {
   "cell_type": "code",
   "execution_count": null,
   "id": "2139b45b-f0a1-4863-9654-f8eb840743dd",
   "metadata": {},
   "outputs": [],
   "source": [
    "like_dark = LikeLVK(model_cosmo = fLCDM, model_mass  = dummy_mass, model_rate  = dummy_rate, **recipe)\n",
    "\n",
    "grid_H0 = np.linspace(20.,200.,99)          \n",
    "like_H0 = np.zeros_like(grid_H0)            \n",
    "\n",
    "lambda_cosmo = {\"Om0\": 0.3, \"H0\": 70.0}    \n",
    "lambda_mass = {}\n",
    "lambda_rate = {}"
   ]
  },
  {
   "cell_type": "code",
   "execution_count": null,
   "id": "9708f693-00d2-46ca-8986-580727a21b58",
   "metadata": {},
   "outputs": [],
   "source": [
    "for i in tqdm(range(len(grid_H0))):    \n",
    "    lambda_cosmo[\"H0\"] = grid_H0[i]\n",
    "    like_H0[i]      = like_dark.compute(lambda_cosmo, lambda_mass, lambda_rate, inspect=True)\n",
    "    \n",
    "    # Adicionar prints para diagnóstico\n",
    "    print(f\"Iteration {i}\")\n",
    "    print(f\"lambda_cosmo: {lambda_cosmo}\")\n",
    "    print(f\"like_H0[{i}]: {like_H0[i]}\")\n",
    "\n",
    "# Depois do loop, mostrar todos os resultados\n",
    "print(\"Resultados finais:\")\n",
    "print(\"grid_H0:\", grid_H0)\n",
    "print(\"like_H0:\", like_H0)"
   ]
  },
  {
   "cell_type": "code",
   "execution_count": null,
   "id": "8626372a-f6c0-4256-8afd-8231127399aa",
   "metadata": {},
   "outputs": [],
   "source": [
    "plt.plot(grid_H0, like_H0)\n",
    "plt.xlabel('$H_0$')\n",
    "plt.ylabel('Likelihood')\n",
    "plt.grid(True)\n",
    "plt.show()"
   ]
  },
  {
   "cell_type": "code",
   "execution_count": null,
   "id": "d3f3da11-0e6a-4440-b96d-ad781bd6faa1",
   "metadata": {},
   "outputs": [],
   "source": [
    "fig, ax = plt.subplots(1,2, figsize=(10,3.5), dpi=150)\n",
    "\n",
    "plotting.plot_2Dcoring(like_dark, renorm_all=1, iteration=np.abs(grid_H0 - 70).argmin(), ax=ax)\n",
    "ax[0].scatter(ra4993, dec4993, edgecolors='k', facecolors='none', s=55, lw=1,  label=\"NGC 4993\")\n",
    "ax[0].legend()\n",
    "#plt.savefig('zdist1.jpg')\n",
    "#plt.close()\n",
    "plt.show()"
   ]
  },
  {
   "cell_type": "code",
   "execution_count": null,
   "id": "6e85ffb1-bcde-4e75-915d-7b5ed4b0eca7",
   "metadata": {},
   "outputs": [],
   "source": [
    "fig, ax = plt.subplots(figsize=(5,3.5), dpi=150)\n",
    "\n",
    "post_H0 = like_H0 / grid_H0**3   \n",
    "\n",
    "misc.get_confidence_HDI(post_H0, grid_H0, kde=0.2, ax=ax, color=\"indigo\")\n",
    "plt.xlabel(r\"$H_0$ [km/s/Mpc]\")\n",
    "plt.ylabel(r\"$p(H_0)$\")\n",
    "plt.legend()\n",
    "plt.tight_layout()\n",
    "#plt.savefig('plotH0.jpg')\n",
    "#plt.close()\n",
    "plt.show()"
   ]
  },
  {
   "cell_type": "markdown",
   "id": "c4ed0da2-f036-45f5-b0ad-278abaefc4a1",
   "metadata": {},
   "source": [
    "# Análise de Om0"
   ]
  },
  {
   "cell_type": "code",
   "execution_count": null,
   "id": "f827a12a-7fe2-42b9-a266-f273e2a15681",
   "metadata": {},
   "outputs": [],
   "source": [
    "like_dark = LikeLVK(model_cosmo = fLCDM, model_mass  = dummy_mass, model_rate  = dummy_rate, **recipe)          \n",
    "\n",
    "grid_Om0 = np.linspace(0.01,1.,99)\n",
    "like_Om0 = np.zeros_like(grid_Om0)\n",
    "\n",
    "lambda_cosmo = {\"Om0\": 0.3, \"H0\": 70.0}    \n",
    "lambda_mass = {}\n",
    "lambda_rate = {}"
   ]
  },
  {
   "cell_type": "code",
   "execution_count": null,
   "id": "0560641c-2e84-43ee-990f-e17bd1d6b6be",
   "metadata": {},
   "outputs": [],
   "source": [
    "for i in tqdm(range(len(grid_Om0))):  \n",
    "    lambda_cosmo[\"Om0\"] = grid_Om0[i]\n",
    "    like_Om0[i] = like_dark.compute(lambda_cosmo, lambda_mass, lambda_rate, inspect=True)\n",
    "    \n",
    "    # Adicionar prints para diagnóstico\n",
    "    print(f\"Iteration {i}\")\n",
    "    print(f\"lambda_cosmo: {lambda_cosmo}\")\n",
    "    print(f\"like_Om0[{i}]: {like_Om0[i]}\")\n",
    "\n",
    "# Depois do loop, mostrar todos os resultados\n",
    "print(\"Resultados finais:\")\n",
    "print(\"grid_Om0:\", grid_Om0)\n",
    "print(\"like_Om0:\", like_Om0)"
   ]
  },
  {
   "cell_type": "code",
   "execution_count": null,
   "id": "368528da-0f53-47c0-92fb-ac33baa85870",
   "metadata": {},
   "outputs": [],
   "source": [
    "plt.plot(grid_Om0, like_Om0)\n",
    "plt.xlabel('Densidade de Matéria ($\\Omega_m$)')\n",
    "plt.ylabel('Likelihood')\n",
    "plt.grid(True)\n",
    "plt.show()"
   ]
  },
  {
   "cell_type": "code",
   "execution_count": null,
   "id": "61756e57-9f40-4f7e-9647-054de85828b6",
   "metadata": {},
   "outputs": [],
   "source": [
    "fig, ax = plt.subplots(figsize=(5,3.5), dpi=150)\n",
    "\n",
    "post_Om0 = like_Om0 / np.trapz(like_Om0, grid_Om0)     \n",
    "\n",
    "misc.get_confidence_HDI(post_Om0, grid_Om0, kde=0.2, ax=ax, color=\"indigo\")\n",
    "plt.xlabel(r\"$Om_0$\")\n",
    "plt.ylabel(r\"$p(Om_0)$\")\n",
    "#plt.legend()\n",
    "plt.tight_layout()\n",
    "#plt.savefig('plotOm.jpg')\n",
    "#plt.close()\n",
    "plt.show()"
   ]
  }
 ],
 "metadata": {
  "kernelspec": {
   "display_name": "Python 3 (ipykernel)",
   "language": "python",
   "name": "python3"
  },
  "language_info": {
   "codemirror_mode": {
    "name": "ipython",
    "version": 3
   },
   "file_extension": ".py",
   "mimetype": "text/x-python",
   "name": "python",
   "nbconvert_exporter": "python",
   "pygments_lexer": "ipython3",
   "version": "3.11.9"
  }
 },
 "nbformat": 4,
 "nbformat_minor": 5
}
