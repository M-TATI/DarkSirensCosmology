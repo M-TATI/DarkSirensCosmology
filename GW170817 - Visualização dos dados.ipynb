{
 "cells": [
  {
   "cell_type": "markdown",
   "metadata": {},
   "source": [
    "# GW170817 - Visualização dos dados"
   ]
  },
  {
   "cell_type": "markdown",
   "metadata": {},
   "source": [
    "### Importações:"
   ]
  },
  {
   "cell_type": "code",
   "execution_count": 1,
   "metadata": {},
   "outputs": [],
   "source": [
    "import os\n",
    "import h5py \n",
    "import json\n",
    "import numpy as np\n",
    "import healpy as hp\n",
    "import pickle\n",
    "import matplotlib.pyplot as plt\n",
    "import plotly.graph_objs as go\n",
    "import plotly.express as px\n",
    "import plotly.io as pio\n",
    "from tqdm import tqdm\n",
    "from scipy.interpolate import interp1d\n",
    "from mpl_toolkits.mplot3d import Axes3D\n",
    "from matplotlib.ticker import FuncFormatter\n",
    "from CHIMERA.DataGW import DataLVK\n",
    "from CHIMERA.Likelihood import LikeLVK\n",
    "from CHIMERA.astro.mass import pdf_FLAT, dummy_mass\n",
    "from CHIMERA.astro.rate import phi_PL, dummy_rate\n",
    "from CHIMERA.cosmo import fLCDM\n",
    "from CHIMERA.utils import misc, plotting\n",
    "from astropy.cosmology import FlatLambdaCDM\n",
    "from scipy.optimize import root\n",
    "%config InlineBackend.figure_format = \"svg\""
   ]
  },
  {
   "cell_type": "markdown",
   "metadata": {},
   "source": [
    "### Path dos arquivos"
   ]
  },
  {
   "cell_type": "code",
   "execution_count": 2,
   "metadata": {},
   "outputs": [],
   "source": [
    "# Arquivos originais\n",
    "dir_LVK       = os.getcwd()\n",
    "dir_GLADE     = \"../../data/GLADE/glade+_GW170817_cutout.hdf5\"\n",
    "dir_GLADE_int = \"../../data/GLADE/p_bkg_gauss_smooth_zerr0.001_zres5000_smooth30.pkl\""
   ]
  },
  {
   "cell_type": "markdown",
   "metadata": {},
   "source": [
    " ### Seleção dos eventos que serão analisados"
   ]
  },
  {
   "cell_type": "code",
   "execution_count": 3,
   "metadata": {},
   "outputs": [
    {
     "name": "stdout",
     "output_type": "stream",
     "text": [
      "GW170817_GWTC-1.hdf5\n"
     ]
    }
   ],
   "source": [
    "data_GW_n = \"GW170817\"                          \n",
    "data_GW = DataLVK(dir_LVK).load(data_GW_n)      \n",
    "data_GW[\"dL\"] /= 1000.                          "
   ]
  },
  {
   "cell_type": "markdown",
   "metadata": {},
   "source": [
    "### Definição dos dados da NGC"
   ]
  },
  {
   "cell_type": "code",
   "execution_count": 4,
   "metadata": {},
   "outputs": [],
   "source": [
    "ra4993    = 3.44613079                         \n",
    "dec4993   = -0.40812585                        \n",
    "z4993     = 0.0091909380476333                 \n",
    "errz4993  = 0.0002665372033813657              "
   ]
  },
  {
   "cell_type": "markdown",
   "metadata": {},
   "source": [
    "___"
   ]
  },
  {
   "cell_type": "markdown",
   "metadata": {},
   "source": [
    "## Visualização e exploração dos arquivos de dados originais"
   ]
  },
  {
   "cell_type": "markdown",
   "metadata": {},
   "source": [
    "### Abrindo os arquivos\n",
    "- modo 'r' para os arquivos originais (somente leitura)\n",
    "- modo 'r+' para a cópia dos arquivos (leitura de modificações)\n",
    "- modo 'rb' para o .pkl"
   ]
  },
  {
   "cell_type": "code",
   "execution_count": 5,
   "metadata": {},
   "outputs": [
    {
     "name": "stderr",
     "output_type": "stream",
     "text": [
      "/tmp/ipykernel_7077/2169444026.py:10: DeprecationWarning: Please import `interp1d` from the `scipy.interpolate` namespace; the `scipy.interpolate.interpolate` namespace is deprecated and will be removed in SciPy 2.0.0.\n",
      "  dataPKL = pickle.load(file_pkl)\n"
     ]
    }
   ],
   "source": [
    "#ARQUIVOS ORIGINAIS\n",
    "file_name = \"GW170817_GWTC-1.hdf5\"                         \n",
    "file = h5py.File(file_name, 'r') \n",
    "\n",
    "file_path = \"../../data/GLADE/glade+_GW170817_cutout.hdf5\"\n",
    "file_2 = h5py.File(file_path, 'r')\n",
    "\n",
    "file_path_pkl = \"../../data/GLADE/p_bkg_gauss_smooth_zerr0.001_zres5000_smooth30.pkl\"\n",
    "with open(file_path_pkl, 'rb') as file_pkl:\n",
    "    dataPKL = pickle.load(file_pkl)"
   ]
  },
  {
   "cell_type": "markdown",
   "metadata": {},
   "source": [
    "### \"GW170817_GWTC-1.hdf5\" - DADOS DO EVENTO GW170817"
   ]
  },
  {
   "cell_type": "code",
   "execution_count": 7,
   "metadata": {},
   "outputs": [
    {
     "name": "stdout",
     "output_type": "stream",
     "text": [
      "Dataset: Overall_posterior\n"
     ]
    }
   ],
   "source": [
    "# List all group names, dataset names, and attributes in the file\n",
    "def list_hdf5_items(name, obj):\n",
    "    if isinstance(obj, h5py.Group):\n",
    "        print(f\"Group: {name}\")\n",
    "        for key, value in obj.attrs.items():\n",
    "            print(f\"  Attribute: {key} = {value}\")\n",
    "    elif isinstance(obj, h5py.Dataset):\n",
    "        print(f\"Dataset: {name}\")\n",
    "        for key, value in obj.attrs.items():\n",
    "            print(f\"  Attribute: {key} = {value}\")\n",
    "        data = obj[:]  # Read data\n",
    "        #print(f\"  Data shape: {data.shape}\")  # Print shape of data\n",
    "        #print(f\"  Data:\")\n",
    "        #print(data)  # Print the data itself\n",
    "\n",
    "file.visititems(list_hdf5_items)\n",
    "\n",
    "#........................................................\n",
    "dataset = file['Overall_posterior']\n",
    "data = dataset[:]\n",
    "\n",
    "#print(\"Campos do registro:\", data.dtype.names)"
   ]
  },
  {
   "cell_type": "markdown",
   "metadata": {},
   "source": [
    "#### Dados da GW que serão úteis no restante da análise"
   ]
  },
  {
   "cell_type": "code",
   "execution_count": 8,
   "metadata": {},
   "outputs": [],
   "source": [
    "luminosity_distance = data['luminosity_distance_Mpc']\n",
    "right_ascension = data['right_ascension']\n",
    "declination = data['declination']\n",
    "m1 = data['m1_detector_frame_Msun']\n",
    "m2 = data['m2_detector_frame_Msun']"
   ]
  },
  {
   "cell_type": "code",
   "execution_count": null,
   "metadata": {},
   "outputs": [],
   "source": [
    "# Histograma para a distância de luminosidade\n",
    "plt.figure(figsize=(6, 3))\n",
    "plt.hist(luminosity_distance, bins=50, alpha=0.75)\n",
    "plt.title('Luminosity Distance distribution')\n",
    "plt.xlabel('Luminosity Distance (Mpc)')\n",
    "plt.ylabel('Frequência')\n",
    "plt.grid(True)\n",
    "#plt.show()\n",
    "\n",
    "#Histograma combinado das massas m1 e m2\n",
    "plt.figure(figsize=(6, 3))\n",
    "plt.hist(m1, bins=50, alpha=0.5, label='m1_detector_frame_Msun', color='blue')\n",
    "plt.hist(m2, bins=50, alpha=0.5, label='m2_detector_frame_Msun', color='red')\n",
    "plt.title('Distribuições de m1 e m2 no referencial do detector (Msun)')\n",
    "plt.xlabel('Massa (Msun)')\n",
    "plt.ylabel('Frequência')\n",
    "plt.legend()\n",
    "plt.grid(True)\n",
    "#plt.show()"
   ]
  },
  {
   "cell_type": "markdown",
   "metadata": {},
   "source": [
    "#### 3D plot: dL, ra, dec"
   ]
  },
  {
   "cell_type": "code",
   "execution_count": 9,
   "metadata": {},
   "outputs": [],
   "source": [
    "fig = plt.figure(figsize=(14, 9))\n",
    "ax = fig.add_subplot(111, projection='3d')\n",
    "\n",
    "\n",
    "sc = ax.scatter(luminosity_distance,right_ascension,declination, c=luminosity_distance, \n",
    "                cmap='plasma', marker='o')\n",
    "\n",
    "plt.title('Luminosity distance, right ascension and declination for GW170817')\n",
    "ax.set_xlabel('Luminosity Distance (Mpc)')\n",
    "ax.set_ylabel('Right Ascension (rad)')\n",
    "ax.set_zlabel('Declination (rad)')\n",
    "plt.tight_layout()\n",
    "plt.subplots_adjust(left=0.2, right=0.8, top=0.8, bottom=0.2)\n",
    "#plt.show()\n",
    "plt.savefig('plot1.jpg')\n",
    "plt.close()"
   ]
  },
  {
   "cell_type": "code",
   "execution_count": null,
   "metadata": {},
   "outputs": [],
   "source": [
    "fig = go.Figure()\n",
    "fig.add_trace(go.Scatter3d(\n",
    "    x=luminosity_distance,\n",
    "    y=right_ascension,\n",
    "    z=declination,\n",
    "    mode='markers',\n",
    "    marker=dict(\n",
    "        size=5,\n",
    "        color=luminosity_distance,  # Definindo a cor dos pontos com base na distância de luminosidade\n",
    "        colorscale='Viridis',       \n",
    "        opacity=0.8\n",
    "    )\n",
    "))\n",
    "\n",
    "# Atualizando os layouts dos eixos\n",
    "fig.update_layout(\n",
    "    scene=dict(\n",
    "        xaxis_title='Luminosity Distance (Mpc)',\n",
    "        yaxis_title='Right Ascension (rad)',\n",
    "        zaxis_title='Declination (rad)'\n",
    "    ),\n",
    "    title='3D Scatter Plot of Luminosity Distance, Right Ascension, and Declination'\n",
    ")\n",
    "\n",
    "fig.show()"
   ]
  },
  {
   "cell_type": "markdown",
   "metadata": {},
   "source": [
    "___"
   ]
  },
  {
   "cell_type": "markdown",
   "metadata": {},
   "source": [
    "### \"../../data/GLADE/glade+_GW170817_cutout.hdf5\" - DADOS DO CATÁLOGO GLADE+ COM CORTE"
   ]
  },
  {
   "cell_type": "code",
   "execution_count": null,
   "metadata": {
    "scrolled": true
   },
   "outputs": [],
   "source": [
    "file_path = \"../../data/GLADE/glade+_GW170817_cutout.hdf5\"\n",
    "file = h5py.File(file_path, 'r')\n",
    "\n",
    "# List all group names, dataset names, and attributes in the file\n",
    "def list_hdf5_items_2(name, obj):\n",
    "    if isinstance(obj, h5py.Group):\n",
    "        print(f\"Group: {name}\")\n",
    "        for key, value in obj.attrs.items():\n",
    "            print(f\"  Attribute: {key} = {value}\")\n",
    "    elif isinstance(obj, h5py.Dataset):\n",
    "        print(f\"Dataset: {name}\")\n",
    "        for key, value in obj.attrs.items():\n",
    "            print(f\"  Attribute: {key} = {value}\")\n",
    "        dataCAT = obj[:]  # Read data\n",
    "        #print(f\"  Data shape: {dataCAT.shape}\")  # Print shape of data\n",
    "        #print(f\"  Data:\")\n",
    "        #print(dataCAT)  # Print the data itself\n",
    "\n",
    "file.visititems(list_hdf5_items_2)"
   ]
  },
  {
   "cell_type": "markdown",
   "metadata": {},
   "source": [
    "#### Dados do catálogo que serão úteis no restante da análise"
   ]
  },
  {
   "cell_type": "code",
   "execution_count": 11,
   "metadata": {},
   "outputs": [],
   "source": [
    "z_data = file_2['z'][:]\n",
    "sigmaz_data = file_2['sigmaz'][:]\n",
    "dec_data = file_2['dec'][:]\n",
    "ra_data = file_2['ra'][:]"
   ]
  },
  {
   "cell_type": "code",
   "execution_count": null,
   "metadata": {},
   "outputs": [],
   "source": [
    "print(\"O valor mínimo de z é:\", min(z_data))\n",
    "print(\"O valor máximo de z é:\",max(z_data))\n",
    "\n",
    "print(\"O valor mínimo de sigma_z é:\",min(sigmaz_data))\n",
    "print(\"O valor máximo de sigma_z é:\",max(sigmaz_data))\n",
    "\n",
    "print(\"O valor mínimo de dec é:\",min(dec_data))\n",
    "print(\"O valor máximo de dec é:\",max(dec_data))\n",
    "\n",
    "print(\"O valor mínimo de ra é:\",min(ra_data))\n",
    "print(\"O valor máximo de ra é:\",max(ra_data))"
   ]
  },
  {
   "cell_type": "code",
   "execution_count": null,
   "metadata": {},
   "outputs": [],
   "source": [
    "#Histograma dos dados de 'z'\n",
    "plt.figure(figsize=(6, 3))\n",
    "plt.hist(z_data, bins=50, alpha=0.75, label='z', color='blue')\n",
    "plt.xlabel('z values')\n",
    "plt.ylabel('Frequency')\n",
    "plt.title('Histogram of z Dataset')\n",
    "plt.legend()\n",
    "plt.grid(True)\n",
    "plt.show()\n",
    "\n",
    "#Histograma dos dados de 'sigmaz'\n",
    "plt.figure(figsize=(6, 3))\n",
    "plt.hist(sigmaz_data, bins=50, alpha=0.75, label='sigmaz', color='orange')\n",
    "plt.xlabel('sigmaz values')\n",
    "plt.ylabel('Frequency')\n",
    "plt.title('Histogram of sigmaz Dataset')\n",
    "plt.legend()\n",
    "plt.grid(True)\n",
    "plt.show()"
   ]
  },
  {
   "cell_type": "markdown",
   "metadata": {},
   "source": [
    "#### KDE de z"
   ]
  },
  {
   "cell_type": "code",
   "execution_count": null,
   "metadata": {},
   "outputs": [],
   "source": [
    "from scipy.stats import gaussian_kde\n",
    "\n",
    "# Função para plotar KDE\n",
    "def plot_kde(data, label, color):\n",
    "    kde = gaussian_kde(data)\n",
    "    x_vals = np.linspace(min(data), max(data), 1000)\n",
    "    y_vals = kde(x_vals)\n",
    "    plt.plot(x_vals, y_vals, label=label, color=color)\n",
    "\n",
    "#Curva de densidade de probabilidade de 'z'\n",
    "plt.figure(figsize=(6, 3))\n",
    "plot_kde(z_data, 'z', 'blue')\n",
    "plt.xlabel('z values')\n",
    "plt.ylabel('Probability Density')\n",
    "plt.title('Probability Density Function of z Dataset')\n",
    "plt.legend()\n",
    "plt.grid(True)\n",
    "plt.show()"
   ]
  },
  {
   "cell_type": "markdown",
   "metadata": {},
   "source": [
    "#### 3D plot: z, ra, dec"
   ]
  },
  {
   "cell_type": "code",
   "execution_count": 17,
   "metadata": {},
   "outputs": [],
   "source": [
    "fig = plt.figure(figsize=(14, 9))\n",
    "ax = fig.add_subplot(111, projection='3d')\n",
    "sc = ax.scatter(z_data,ra_data, dec_data, c=z_data, cmap='viridis', marker='o')\n",
    "ax.set_xlabel('Redshift (z)')\n",
    "ax.set_ylabel('Right Ascension (ra)')\n",
    "ax.set_zlabel('Declination (dec)')\n",
    "ax.set_title('Redshift, right ascension and declination data from GLADE+ catalog')\n",
    "plt.tight_layout()\n",
    "plt.subplots_adjust(left=0.2, right=0.8, top=0.8, bottom=0.2)\n",
    "#plt.show()\n",
    "plt.savefig('plot2.jpg')\n",
    "plt.close()"
   ]
  },
  {
   "cell_type": "code",
   "execution_count": null,
   "metadata": {},
   "outputs": [],
   "source": [
    "scatter = go.Scatter3d(\n",
    "    x=z_data,       \n",
    "    y=ra_data,  \n",
    "    z=dec_data,     \n",
    "    mode='markers',\n",
    "    marker=dict(\n",
    "        size=5,\n",
    "        color=z_data,  # Cor baseado no redshift\n",
    "        colorscale='Viridis',\n",
    "        opacity=0.8\n",
    "    )\n",
    ")\n",
    "\n",
    "layout = go.Layout(\n",
    "    title='Gráfico 3D de Declinação, Ascensão Reta e Redshift',\n",
    "    scene=dict(\n",
    "        xaxis=dict(title='Redshift (z)'),\n",
    "        yaxis=dict(title='Ascensão Reta (ra)'),\n",
    "        zaxis=dict(title='Declinação (dec)')\n",
    "    )\n",
    ")\n",
    "\n",
    "fig = go.Figure(data=[scatter], layout=layout)\n",
    "pio.show(fig)"
   ]
  },
  {
   "cell_type": "markdown",
   "metadata": {},
   "source": [
    "### \"p_bkg_gauss_smooth_zerr0.001_zres5000_smooth30.pkl\" - DADOS DO GLADE+ (COMPLETO) SUAVIZADO"
   ]
  },
  {
   "cell_type": "code",
   "execution_count": 19,
   "metadata": {},
   "outputs": [
    {
     "name": "stdout",
     "output_type": "stream",
     "text": [
      "Tipo de dado: <class 'scipy.interpolate._interpolate.interp1d'>\n",
      "<scipy.interpolate._interpolate.interp1d object at 0x7f41fb05d860>\n"
     ]
    }
   ],
   "source": [
    "# Visualizar o conteúdo\n",
    "print(\"Tipo de dado:\", type(dataPKL))\n",
    "\n",
    "if isinstance(dataPKL, dict):\n",
    "    for key, value in dataPKL.items():\n",
    "        print(f\"\\nChave: {key}\")\n",
    "        print(\"Valor:\", value)\n",
    "elif isinstance(dataPKL, list):\n",
    "    for i, item in enumerate(dataPKL):\n",
    "        print(f\"\\nItem {i}:\")\n",
    "        print(item)\n",
    "else:\n",
    "    print(dataPKL)"
   ]
  },
  {
   "cell_type": "code",
   "execution_count": null,
   "metadata": {},
   "outputs": [],
   "source": [
    "# Verificar o tipo de dado e propriedades\n",
    "print(\"Tipo de dado:\", type(dataPKL))\n",
    "\n",
    "# Se for um objeto interp1d, podemos inspecionar mais\n",
    "if isinstance(dataPKL, interp1d):\n",
    "    print(\"Informações sobre a interpolação:\")\n",
    "    print(\"Interpolante:\", dataPKL)\n",
    "    print(\"Intervalo de definição:\", dataPKL.x[0], \"a\", dataPKL.x[-1])\n",
    "    print(\"Intervalo de valores:\", dataPKL.y[0], \"a\", dataPKL.y[-1])\n",
    "else:\n",
    "    print(\"O objeto carregado não é uma função de interpolação interp1d\")"
   ]
  },
  {
   "cell_type": "code",
   "execution_count": null,
   "metadata": {},
   "outputs": [],
   "source": [
    "if isinstance(dataPKL, interp1d):\n",
    "    # Definir o intervalo de redshift (ajuste conforme necessário)\n",
    "    z_min = 0  # Redshift mínimo\n",
    "    z_max = 1  # Redshift máximo\n",
    "    \n",
    "    # Gerar pontos no intervalo de redshift\n",
    "    z_points = np.linspace(z_min, z_max, 5000)\n",
    "    \n",
    "    # Avaliar a função interpolante nesses pontos\n",
    "    interpolated_values = dataPKL(z_points)\n",
    "    \n",
    "    # Plotar a interpolação\n",
    "    plt.figure(figsize=(6, 3))\n",
    "    plt.plot(z_points, interpolated_values, '-',label='Interpolação Suavizada')\n",
    "    plt.xlabel('Redshift (z)')\n",
    "    plt.ylabel('Valor Interpolado')\n",
    "    plt.title('Interpolação Suavizada do Catálogo GLADE+')\n",
    "    plt.legend()\n",
    "    plt.show()\n",
    "else:\n",
    "    print(\"O objeto carregado não é uma função de interpolação interp1d\")"
   ]
  },
  {
   "cell_type": "code",
   "execution_count": null,
   "metadata": {},
   "outputs": [],
   "source": [
    "# Plotar a interpolação apenas até z= 0,01\n",
    "plt.figure(figsize=(6, 3))\n",
    "plt.plot(z_points, interpolated_values, '-', label='Interpolação Suavizada')\n",
    "plt.xlabel('Redshift (z)')\n",
    "plt.ylabel('Number Density of Galaxies (?)')\n",
    "plt.title('Interpolação Suavizada do Catálogo GLADE+')\n",
    "plt.xlim(0,0.1)\n",
    "plt.ylim(0,0.1)\n",
    "plt.legend()\n",
    "plt.show()"
   ]
  },
  {
   "cell_type": "code",
   "execution_count": null,
   "metadata": {},
   "outputs": [],
   "source": [
    "densidade_cortada = file_2.get('densidade_de_numero', np.ones_like(z_data))  # Supondo que os dados cortados contenham essa informação\n",
    "\n",
    "# Gerar pontos no intervalo de redshift da interpolação completa\n",
    "z_points = np.linspace(dataPKL.x[0], dataPKL.x[-1], 5000)\n",
    "\n",
    "# Avaliar a função interpolante nesses pontos\n",
    "interpolated_values = dataPKL(z_points)\n",
    "\n",
    "# Plotar os dados originais cortados\n",
    "plt.figure(figsize=(8, 4))\n",
    "plt.scatter(z_data, densidade_cortada, color='blue', label='Dados Originais Cortados')\n",
    "\n",
    "# Plotar a interpolação suavizada\n",
    "plt.plot(z_points, interpolated_values, color='red', label='Interpolação Suavizada')\n",
    "\n",
    "# Configurar o gráfico\n",
    "plt.xlabel('Redshift (z)')\n",
    "plt.ylabel('Number Density of Galaxies (?)')\n",
    "#plt.title('Comparação entre Dados Originais Cortados e Interpolação Suavizada')\n",
    "plt.xlim(0,0.2)\n",
    "plt.legend()\n",
    "plt.show()"
   ]
  },
  {
   "cell_type": "code",
   "execution_count": null,
   "metadata": {},
   "outputs": [],
   "source": [
    "densidade_cortada = file_2.get('densidade_de_numero', np.ones_like(z_data))\n",
    "\n",
    "# Plotar os dados originais cortados\n",
    "plt.figure(figsize=(8, 4))\n",
    "plt.scatter(z_data, densidade_cortada, color='blue', label='Dados Originais Cortados')\n",
    "\n",
    "# Configurar o gráfico\n",
    "plt.xlabel('Redshift (z)')\n",
    "plt.ylabel('Densidade de Número de Galáxias')\n",
    "plt.title('Distribuição de Galáxias nos Dados Cortados')\n",
    "plt.legend()\n",
    "plt.show()"
   ]
  },
  {
   "cell_type": "markdown",
   "metadata": {},
   "source": [
    "### \"GWTC-confident.json\" - TODAS AS DETECÇÕES"
   ]
  },
  {
   "cell_type": "code",
   "execution_count": 12,
   "metadata": {
    "scrolled": true
   },
   "outputs": [],
   "source": [
    "# Definir o caminho para o arquivo .json\n",
    "dir_LVK = os.getcwd()  # ou o caminho onde o arquivo está localizado\n",
    "json_file_path = os.path.join(dir_LVK, \"GWTC-confident.json\")\n",
    "\n",
    "# Carregar o conteúdo do arquivo .json\n",
    "with open(json_file_path, 'r') as f:\n",
    "    json_data = json.load(f)\n",
    "\n",
    "# Exibir o conteúdo do JSON\n",
    "#print(json.dumps(json_data, indent=4))"
   ]
  },
  {
   "cell_type": "markdown",
   "metadata": {},
   "source": [
    "O arquivo .json é usado para fornecer metadados e ajudar a localizar os arquivos .hdf5 corretos para cada evento. Ele contém informações que permitem a classe DataLVK identificar e carregar os arquivos de dados apropriados. "
   ]
  },
  {
   "cell_type": "markdown",
   "metadata": {},
   "source": [
    "### Fechando os arquivos "
   ]
  },
  {
   "cell_type": "code",
   "execution_count": 13,
   "metadata": {},
   "outputs": [],
   "source": [
    "#Arquivos originais\n",
    "file.close()\n",
    "file_2.close()\n",
    "file_pkl.close()"
   ]
  },
  {
   "cell_type": "markdown",
   "metadata": {},
   "source": [
    "___\n",
    "\n",
    "___"
   ]
  },
  {
   "cell_type": "markdown",
   "metadata": {},
   "source": [
    "### Combinando dados da GW com o catálogo "
   ]
  },
  {
   "cell_type": "markdown",
   "metadata": {},
   "source": [
    "#### Convertendo dL em z - tomando LCDM:"
   ]
  },
  {
   "cell_type": "code",
   "execution_count": 27,
   "metadata": {},
   "outputs": [],
   "source": [
    "import numpy as np\n",
    "from astropy.cosmology import FlatLambdaCDM\n",
    "from scipy.optimize import root\n",
    "\n",
    "# Definir o modelo cosmológico \n",
    "H0 = 70      #km/s/Mpc\n",
    "Om0 = 0.25  \n",
    "cosmo = FlatLambdaCDM(H0=H0, Om0=Om0)\n",
    "\n",
    "# Função para calcular a diferença entre a distância de luminosidade fornecida e a calculada para um dado redshift\n",
    "def redshift_from_luminosity_distance(d_l, z_initial_guess=0.02):\n",
    "    def f(z):\n",
    "        return cosmo.luminosity_distance(z).value - d_l\n",
    "    sol = root(f, z_initial_guess)\n",
    "    if sol.success:\n",
    "        return sol.x[0]\n",
    "    else:\n",
    "        raise ValueError(\"A solução não foi encontrada\")\n",
    "\n",
    "\n",
    "# Função para converter uma lista de distâncias de luminosidade em redshift\n",
    "def convert_distances_to_redshifts(distances):\n",
    "    redshifts = []\n",
    "    for d_l in distances:\n",
    "        try:\n",
    "            z = redshift_from_luminosity_distance(d_l)\n",
    "            redshifts.append(z)\n",
    "        except ValueError as e:\n",
    "            print(f\"Erro ao calcular o redshift para a distância {d_l} Mpc: {e}\")\n",
    "            redshifts.append(np.nan)  # Adiciona NaN em caso de erro\n",
    "    return redshifts\n",
    "\n",
    "\n",
    "redshifts_GW = convert_distances_to_redshifts(luminosity_distance)"
   ]
  },
  {
   "cell_type": "markdown",
   "metadata": {},
   "source": [
    "#### Visualização 3D - z, ra, dec"
   ]
  },
  {
   "cell_type": "code",
   "execution_count": null,
   "metadata": {},
   "outputs": [],
   "source": [
    "fig = plt.figure(figsize=(14, 9))\n",
    "ax = fig.add_subplot(111, projection='3d')\n",
    "\n",
    "# Plotar os dados do primeiro conjunto\n",
    "sc1 = ax.scatter(redshifts_GW, right_ascension, declination, c=luminosity_distance, \n",
    "                 cmap='plasma', marker='o', label='GW170817')\n",
    "\n",
    "# Plotar os dados do segundo conjunto\n",
    "sc2 = ax.scatter(z_data, ra_data, dec_data, c=z_data, cmap='viridis', marker='^', label='GLADE+')\n",
    "\n",
    "# Adicionar labels aos eixos\n",
    "ax.set_xlabel('Redshift (z)')\n",
    "ax.set_ylabel('Right ascension (ra)')\n",
    "ax.set_zlabel('Declination (dec)')\n",
    "ax.set_title('Combined data from GLADE+ and GW170817')\n",
    "plt.tight_layout()\n",
    "plt.subplots_adjust(left=0.2, right=0.8, top=0.8, bottom=0.2)\n",
    "# Adicionar legenda\n",
    "ax.legend()\n",
    "\n",
    "# Mostrar o gráfico\n",
    "plt.show()\n",
    "#plt.savefig('plot3.jpg')\n",
    "#plt.close()"
   ]
  },
  {
   "cell_type": "code",
   "execution_count": null,
   "metadata": {},
   "outputs": [],
   "source": [
    "# Realizar a amostragem dos dados do catálogo\n",
    "sample_indices = np.random.choice(len(z_data), size=len(z_data)//50, replace=False)\n",
    "z_data_sampled = z_data[sample_indices]\n",
    "sigmaz_data_sampled = sigmaz_data[sample_indices]\n",
    "dec_data_sampled = dec_data[sample_indices]\n",
    "ra_data_sampled = ra_data[sample_indices]\n",
    "\n",
    "# Plotar os dados\n",
    "fig = plt.figure(figsize=(14, 9))\n",
    "ax = fig.add_subplot(111, projection='3d')\n",
    "\n",
    "# Plotar os dados do primeiro conjunto\n",
    "sc1 = ax.scatter(redshifts_GW, right_ascension, declination, c=luminosity_distance, \n",
    "                 cmap='plasma', marker='o', label='GW170817')\n",
    "\n",
    "# Plotar os dados do segundo conjunto\n",
    "sc2 = ax.scatter(z_data_sampled, ra_data_sampled, dec_data_sampled, c=z_data_sampled, \n",
    "                 cmap='viridis', marker='^', label='GLADE+ (Amostragem)')\n",
    "\n",
    "# Adicionar labels aos eixos\n",
    "ax.set_xlabel('Redshift (z)')\n",
    "ax.set_ylabel('Right ascension (ra)')\n",
    "ax.set_zlabel('Declination (dec)')\n",
    "ax.set_title('Combined data from GLADE+ and GW170817 (Sampled)')\n",
    "plt.tight_layout()\n",
    "plt.subplots_adjust(left=0.2, right=0.8, top=0.8, bottom=0.2)\n",
    "# Adicionar legenda\n",
    "ax.legend()\n",
    "\n",
    "# Salvar o gráfico\n",
    "#plt.savefig('plot4.jpg')\n",
    "#plt.close()\n",
    "plt.show()"
   ]
  },
  {
   "cell_type": "code",
   "execution_count": null,
   "metadata": {},
   "outputs": [],
   "source": [
    "# Criar o gráfico interativo\n",
    "fig = go.Figure()\n",
    "\n",
    "# Adicionar os dados da GW170817\n",
    "fig.add_trace(go.Scatter3d(\n",
    "    x=redshifts_GW,\n",
    "    y=right_ascension,\n",
    "    z=declination,\n",
    "    mode='markers',\n",
    "    marker=dict(\n",
    "        size=5,\n",
    "        color=luminosity_distance,\n",
    "        colorscale='Plasma',\n",
    "        opacity=0.8\n",
    "    ),\n",
    "    name='GW170817'\n",
    "))\n",
    "\n",
    "# Adicionar os dados amostrados do catálogo GLADE+\n",
    "fig.add_trace(go.Scatter3d(\n",
    "    x=z_data_sampled,\n",
    "    y=ra_data_sampled,\n",
    "    z=dec_data_sampled,\n",
    "    mode='markers',\n",
    "    marker=dict(\n",
    "        size=5,\n",
    "        color=z_data_sampled,\n",
    "        colorscale='Viridis',\n",
    "        opacity=0.8\n",
    "    ),\n",
    "    name='GLADE+ (Amostragem)'\n",
    "))\n",
    "\n",
    "# Atualizar os layouts do gráfico\n",
    "fig.update_layout(\n",
    "    scene=dict(\n",
    "        xaxis_title='Redshift (z)',\n",
    "        yaxis_title='Right Ascension (ra)',\n",
    "        zaxis_title='Declination (dec)'\n",
    "    ),\n",
    "    title='Combined data from GLADE+ and GW170817 (Sampled)',\n",
    "    legend_title_text='Datasets',\n",
    "    width=1400,  # Largura da célula\n",
    "    height=800   # Altura da célula\n",
    ")\n",
    "\n",
    "# Mostrar o gráfico interativo\n",
    "fig.show()"
   ]
  },
  {
   "cell_type": "markdown",
   "metadata": {},
   "source": [
    "___"
   ]
  },
  {
   "cell_type": "markdown",
   "metadata": {},
   "source": [
    "### Testes com as alterações na declinação - ver o outro notebook"
   ]
  },
  {
   "cell_type": "markdown",
   "metadata": {},
   "source": [
    "### Análise dos parâmetros cosmológicos - ver o outro notebook"
   ]
  }
 ],
 "metadata": {
  "kernelspec": {
   "display_name": "Python 3 (ipykernel)",
   "language": "python",
   "name": "python3"
  },
  "language_info": {
   "codemirror_mode": {
    "name": "ipython",
    "version": 3
   },
   "file_extension": ".py",
   "mimetype": "text/x-python",
   "name": "python",
   "nbconvert_exporter": "python",
   "pygments_lexer": "ipython3",
   "version": "3.11.9"
  }
 },
 "nbformat": 4,
 "nbformat_minor": 4
}
